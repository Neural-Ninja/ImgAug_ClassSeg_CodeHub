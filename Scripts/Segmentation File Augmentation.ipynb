{
 "cells": [
  {
   "cell_type": "code",
   "execution_count": 20,
   "id": "36d63b32",
   "metadata": {},
   "outputs": [
    {
     "name": "stdout",
     "output_type": "stream",
     "text": [
      "Augmented dataset contains 324 images.\n"
     ]
    }
   ],
   "source": [
    "import os\n",
    "import imgaug.augmenters as iaa\n",
    "import numpy as np\n",
    "from PIL import Image\n",
    "\n",
    "image_folder = r\"C:\\Users\\LAB-502-09\\Desktop\\project-6-at-2023-07-13-11-59-c353f790\\images\"\n",
    "annotation_folder = r\"C:\\Users\\LAB-502-09\\Desktop\\project-6-at-2023-07-13-11-59-c353f790\\labels\"\n",
    "output_folder = r\"C:\\Users\\LAB-502-09\\Desktop\\project-6-at-2023-07-13-11-59-c353f790\\images_augmented\"\n",
    "\n",
    "if not os.path.exists(output_folder):\n",
    "    os.makedirs(output_folder)\n",
    "\n",
    "target_image_count = 6000\n",
    "\n",
    "augmentation_seq = iaa.Sequential([\n",
    "    iaa.Fliplr(0.5),\n",
    "    iaa.Affine(rotate=(-10, 10)), \n",
    "    iaa.Multiply((0.8, 1.2))\n",
    "])\n",
    "\n",
    "image_files = os.listdir(image_folder)\n",
    "annotation_files = os.listdir(annotation_folder)\n",
    "\n",
    "assert len(image_files) == len(annotation_files)\n",
    "\n",
    "augmentation_factor = int(np.ceil(target_image_count / len(image_files)))\n",
    "\n",
    "for image_file, annotation_file in zip(image_files, annotation_files):\n",
    "    image_path = os.path.join(image_folder, image_file)\n",
    "    annotation_path = os.path.join(annotation_folder, annotation_file)\n",
    "\n",
    "    image = Image.open(image_path)\n",
    "\n",
    "    with open(annotation_path, 'r') as f:\n",
    "        lines = f.readlines()\n",
    "\n",
    "    annotations = []\n",
    "    class_label = int(lines[0].split(' ')[0])\n",
    "    vertices = [float(coord) for coord in lines[0].split(' ')[1:]]\n",
    "    for line in lines[1:]:\n",
    "        if line.startswith('0') or line.startswith('1'):\n",
    "            annotations.append((class_label, vertices))\n",
    "            class_label = int(line.split(' ')[0])\n",
    "            vertices = [float(coord) for coord in line.split(' ')[1:]]\n",
    "        else:\n",
    "            vertices.extend([float(coord) for coord in line.split(' ')])\n",
    "\n",
    "    annotations.append((class_label, vertices))\n",
    "\n",
    "    for i in range(augmentation_factor):\n",
    "\n",
    "        augmented_image = augmentation_seq(image=np.array(image))\n",
    "\n",
    "        image_width, image_height = image.size\n",
    "        augmented_height, augmented_width, _ = augmented_image.shape\n",
    "\n",
    "        scale_x = augmented_width / image_width\n",
    "        scale_y = augmented_height / image_height\n",
    "\n",
    "        augmented_annotation = []\n",
    "        for (class_label, vertices) in annotations:\n",
    "            scaled_vertices = []\n",
    "            for i in range(0, len(vertices), 2):\n",
    "                x = vertices[i] * scale_x\n",
    "                y = vertices[i + 1] * scale_y\n",
    "                scaled_vertices.append(x)\n",
    "                scaled_vertices.append(y)\n",
    "            augmented_annotation.append((class_label, scaled_vertices))\n",
    "\n",
    "        output_image_path = os.path.join(output_folder, f'augmented_{i}_{image_file}')\n",
    "        Image.fromarray(augmented_image).save(output_image_path)\n",
    "\n",
    "        output_annotation_path = os.path.join(output_folder, f'augmented_{i}_{annotation_file}')\n",
    "        with open(output_annotation_path, 'w') as f:\n",
    "            for (class_label, vertices) in augmented_annotation:\n",
    "                line = f\"{class_label} {' '.join(map(str, vertices))}\\n\"\n",
    "                f.write(line)\n",
    "\n",
    "\n",
    "augmented_image_count = len(os.listdir(output_folder))\n",
    "print(f\"Augmented dataset contains {augmented_image_count} images.\")"
   ]
  },
  {
   "cell_type": "code",
   "execution_count": 1,
   "id": "676b8a07",
   "metadata": {},
   "outputs": [],
   "source": [
    "import splitfolders"
   ]
  },
  {
   "cell_type": "code",
   "execution_count": 2,
   "id": "3d7bd889",
   "metadata": {},
   "outputs": [
    {
     "name": "stderr",
     "output_type": "stream",
     "text": [
      "Copying files: 8400 files [00:26, 313.41 files/s] \n"
     ]
    }
   ],
   "source": [
    "splitfolders.ratio(r\"D:\\Sintu\\Plant Village Tomato\\Final Augmented\", output=\"output\",\n",
    "    seed=1337, ratio=(.8, .1, .1), group_prefix=None, move=False)"
   ]
  },
  {
   "cell_type": "code",
   "execution_count": null,
   "id": "65f2a159",
   "metadata": {},
   "outputs": [],
   "source": []
  }
 ],
 "metadata": {
  "kernelspec": {
   "display_name": "Python 3 (ipykernel)",
   "language": "python",
   "name": "python3"
  },
  "language_info": {
   "codemirror_mode": {
    "name": "ipython",
    "version": 3
   },
   "file_extension": ".py",
   "mimetype": "text/x-python",
   "name": "python",
   "nbconvert_exporter": "python",
   "pygments_lexer": "ipython3",
   "version": "3.8.15"
  }
 },
 "nbformat": 4,
 "nbformat_minor": 5
}
