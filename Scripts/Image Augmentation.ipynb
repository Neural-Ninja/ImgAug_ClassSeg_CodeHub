{
 "cells": [
  {
   "cell_type": "code",
   "execution_count": 1,
   "id": "5916ec65",
   "metadata": {},
   "outputs": [],
   "source": [
    "import os\n",
    "import imgaug.augmenters as iaa\n",
    "from PIL import Image\n",
    "import numpy as np\n",
    "import random\n",
    "\n",
    "\n",
    "dataset_dir = r\"D:\\victor\\SCD\\scalogram\"\n",
    "output_dir = r\"D:\\victor\\SCD\\scalogra_augm\"\n",
    "target_images_per_class = 1500\n",
    "\n",
    "augmentation_params = {\n",
    "    \"rotation_range\": (-45, 45),\n",
    "    \"shear_range\": (-20, 20),\n",
    "    \"horizontal_flip\": True,\n",
    "    \"vertical_flip\": True,\n",
    "    \"zoom_range\": (0.8, 1.2),\n",
    "    \"brightness_range\": (0.7, 1.3),\n",
    "}\n",
    "\n",
    "if not os.path.exists(output_dir):\n",
    "    os.makedirs(output_dir)\n",
    "\n",
    "classes = os.listdir(dataset_dir)\n",
    "\n",
    "for class_name in classes:\n",
    "    class_dir = os.path.join(dataset_dir, class_name)\n",
    "    output_class_dir = os.path.join(output_dir, class_name)\n",
    "\n",
    "    if not os.path.exists(output_class_dir):\n",
    "        os.makedirs(output_class_dir)\n",
    "\n",
    "    images = os.listdir(class_dir)\n",
    "    num_images = len(images)\n",
    "    num_augmented_images = 0\n",
    "\n",
    "    for image_name in images:\n",
    "        image_path = os.path.join(class_dir, image_name)\n",
    "        output_image_path = os.path.join(output_class_dir, image_name)\n",
    "        image = Image.open(image_path).convert(\"RGB\")\n",
    "        image.save(output_image_path)\n",
    "\n",
    "    while num_images + num_augmented_images < target_images_per_class:\n",
    "        image_name = random.choice(images)\n",
    "        image_path = os.path.join(class_dir, image_name)\n",
    "        output_image_path = os.path.join(output_class_dir, f\"{image_name.split('.')[0]}_{num_augmented_images}.jpg\")\n",
    "        image = Image.open(image_path).convert(\"RGB\")\n",
    "        image_array = np.array(image)\n",
    "\n",
    "        aug = iaa.Sequential([\n",
    "            iaa.Fliplr(p=augmentation_params[\"horizontal_flip\"]),\n",
    "            iaa.Flipud(p=augmentation_params[\"vertical_flip\"]),\n",
    "            iaa.Multiply(augmentation_params[\"brightness_range\"]),\n",
    "        ])\n",
    "\n",
    "        augmented_image = aug(image=image_array)\n",
    "        Image.fromarray(augmented_image).save(output_image_path)\n",
    "\n",
    "        num_augmented_images += 1\n",
    "\n",
    "        if num_augmented_images % num_images == 0:\n",
    "            random.shuffle(images)\n",
    "\n"
   ]
  },
  {
   "cell_type": "code",
   "execution_count": 1,
   "id": "f520836e",
   "metadata": {},
   "outputs": [],
   "source": [
    "import splitfolders"
   ]
  },
  {
   "cell_type": "code",
   "execution_count": 2,
   "id": "96919b2c",
   "metadata": {},
   "outputs": [
    {
     "name": "stderr",
     "output_type": "stream",
     "text": [
      "Copying files: 47737 files [03:04, 258.24 files/s]\n"
     ]
    }
   ],
   "source": [
    "splitfolders.ratio(r\"D:\\Sintu\\Plant_village_tomato_seg\\Tomato_Plant_Augmented\", output=r\"D:\\Sintu\\Plant_village_tomato_seg\\Tomato_Plant_Augmented\",\n",
    "    seed=1337, ratio=(.8, .1, .1), group_prefix=None, move=False)"
   ]
  },
  {
   "cell_type": "code",
   "execution_count": null,
   "id": "f691ed32",
   "metadata": {},
   "outputs": [],
   "source": []
  }
 ],
 "metadata": {
  "kernelspec": {
   "display_name": "Python 3 (ipykernel)",
   "language": "python",
   "name": "python3"
  },
  "language_info": {
   "codemirror_mode": {
    "name": "ipython",
    "version": 3
   },
   "file_extension": ".py",
   "mimetype": "text/x-python",
   "name": "python",
   "nbconvert_exporter": "python",
   "pygments_lexer": "ipython3",
   "version": "3.8.15"
  }
 },
 "nbformat": 4,
 "nbformat_minor": 5
}
